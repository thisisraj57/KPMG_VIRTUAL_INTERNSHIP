{
  "nbformat": 4,
  "nbformat_minor": 0,
  "metadata": {
    "colab": {
      "name": "Untitled1.ipynb",
      "provenance": [],
      "mount_file_id": "1D5YfqTQGPZkWv4Eb7cMnNXZk5gQKnwwS",
      "authorship_tag": "ABX9TyNZ/lPujiVkEvKqNRninWFL",
      "include_colab_link": true
    },
    "kernelspec": {
      "name": "python3",
      "display_name": "Python 3"
    },
    "language_info": {
      "name": "python"
    }
  },
  "cells": [
    {
      "cell_type": "markdown",
      "metadata": {
        "id": "view-in-github",
        "colab_type": "text"
      },
      "source": [
        "<a href=\"https://colab.research.google.com/github/thisisraj57/KPMG_VIRTUAL_INTERNSHIP/blob/main/Untitled1.ipynb\" target=\"_parent\"><img src=\"https://colab.research.google.com/assets/colab-badge.svg\" alt=\"Open In Colab\"/></a>"
      ]
    },
    {
      "cell_type": "code",
      "metadata": {
        "id": "UPFCXHMATN4T"
      },
      "source": [
        "#Get all packages needed\n",
        "import pandas as pd\n",
        "import numpy as np\n",
        "import datetime\n",
        "from matplotlib.ticker import FuncFormatter\n",
        "import matplotlib.pyplot as plt\n",
        "import warnings\n",
        "import math as ma\n",
        "warnings.filterwarnings(\"ignore\")"
      ],
      "execution_count": 1,
      "outputs": []
    },
    {
      "cell_type": "code",
      "metadata": {
        "id": "q5IK0jpKTfQD"
      },
      "source": [
        "\n",
        "xls = pd.ExcelFile('/content/drive/MyDrive/KPMG_VIRTUAL_INTERNSHIP/MODULE_2/KPMG_VI_New_raw_data_update_final (2).xlsx')\n",
        "df = pd.read_excel(xls, 'CustomerDemographic')\n",
        "#list(df)"
      ],
      "execution_count": 3,
      "outputs": []
    },
    {
      "cell_type": "code",
      "metadata": {
        "colab": {
          "base_uri": "https://localhost:8080/"
        },
        "id": "MbZIEePYTiLY",
        "outputId": "21154843-320b-4fb4-b342-ade152ea18c8"
      },
      "source": [
        "df.columns"
      ],
      "execution_count": 4,
      "outputs": [
        {
          "output_type": "execute_result",
          "data": {
            "text/plain": [
              "Index(['Note: The data and information in this document is reflective of a hypothetical situation and client. This document is to be used for KPMG Virtual Internship purposes only. ',\n",
              "       'Unnamed: 1', 'Unnamed: 2', 'Unnamed: 3', 'Unnamed: 4', 'Unnamed: 5',\n",
              "       'Unnamed: 6', 'Unnamed: 7', 'Unnamed: 8', 'Unnamed: 9', 'Unnamed: 10',\n",
              "       'Unnamed: 11', 'Unnamed: 12'],\n",
              "      dtype='object')"
            ]
          },
          "metadata": {},
          "execution_count": 4
        }
      ]
    },
    {
      "cell_type": "code",
      "metadata": {
        "colab": {
          "base_uri": "https://localhost:8080/",
          "height": 424
        },
        "id": "HN65mh5tU5_Q",
        "outputId": "dd5e4293-5c62-4b9a-a8b9-83a5f6eb2273"
      },
      "source": [
        "# rename for easier analysis\n",
        "df.rename(columns={\"Note: The data and information in this document is reflective of a hypothetical situation and client. This document is to be used for KPMG Virtual Internship purposes only. \":\"customer_id\"}, inplace = True)\n",
        "df.rename(columns={\"Unnamed: 1\":\"fname\",\n",
        "                   \"Unnamed: 2\":\"lname\",\n",
        "                   \"Unnamed: 3\":\"gender\",\n",
        "                   \"Unnamed: 4\":\"3y_bike_purchases\",\n",
        "                   \"Unnamed: 5\":\"DOB\",\n",
        "                   \"Unnamed: 6\":\"JT\"}, inplace = True)\n",
        "df.rename(columns={\"Unnamed: 7\":\"Category\",\n",
        "                   \"Unnamed: 8\":\"wealth_segement\",\n",
        "                   \"Unnamed: 9\":\"D_Indicator\",\n",
        "                   \"Unnamed: 10\":\"default\",\n",
        "                   \"Unnamed: 11\":\"owns_car\",\n",
        "                   \"Unnamed: 12\":\"tencure\"}, inplace = True)\n",
        "df=df.iloc[1:]\n",
        "df"
      ],
      "execution_count": 5,
      "outputs": [
        {
          "output_type": "execute_result",
          "data": {
            "text/html": [
              "<div>\n",
              "<style scoped>\n",
              "    .dataframe tbody tr th:only-of-type {\n",
              "        vertical-align: middle;\n",
              "    }\n",
              "\n",
              "    .dataframe tbody tr th {\n",
              "        vertical-align: top;\n",
              "    }\n",
              "\n",
              "    .dataframe thead th {\n",
              "        text-align: right;\n",
              "    }\n",
              "</style>\n",
              "<table border=\"1\" class=\"dataframe\">\n",
              "  <thead>\n",
              "    <tr style=\"text-align: right;\">\n",
              "      <th></th>\n",
              "      <th>customer_id</th>\n",
              "      <th>fname</th>\n",
              "      <th>lname</th>\n",
              "      <th>gender</th>\n",
              "      <th>3y_bike_purchases</th>\n",
              "      <th>DOB</th>\n",
              "      <th>JT</th>\n",
              "      <th>Category</th>\n",
              "      <th>wealth_segement</th>\n",
              "      <th>D_Indicator</th>\n",
              "      <th>default</th>\n",
              "      <th>owns_car</th>\n",
              "      <th>tencure</th>\n",
              "    </tr>\n",
              "  </thead>\n",
              "  <tbody>\n",
              "    <tr>\n",
              "      <th>1</th>\n",
              "      <td>1</td>\n",
              "      <td>Laraine</td>\n",
              "      <td>Medendorp</td>\n",
              "      <td>F</td>\n",
              "      <td>93</td>\n",
              "      <td>1953-10-12 00:00:00</td>\n",
              "      <td>Executive Secretary</td>\n",
              "      <td>Health</td>\n",
              "      <td>Mass Customer</td>\n",
              "      <td>N</td>\n",
              "      <td>\"'</td>\n",
              "      <td>Yes</td>\n",
              "      <td>11</td>\n",
              "    </tr>\n",
              "    <tr>\n",
              "      <th>2</th>\n",
              "      <td>2</td>\n",
              "      <td>Eli</td>\n",
              "      <td>Bockman</td>\n",
              "      <td>Male</td>\n",
              "      <td>81</td>\n",
              "      <td>1980-12-16 00:00:00</td>\n",
              "      <td>Administrative Officer</td>\n",
              "      <td>Financial Services</td>\n",
              "      <td>Mass Customer</td>\n",
              "      <td>N</td>\n",
              "      <td>&lt;script&gt;alert('hi')&lt;/script&gt;</td>\n",
              "      <td>Yes</td>\n",
              "      <td>16</td>\n",
              "    </tr>\n",
              "    <tr>\n",
              "      <th>3</th>\n",
              "      <td>3</td>\n",
              "      <td>Arlin</td>\n",
              "      <td>Dearle</td>\n",
              "      <td>Male</td>\n",
              "      <td>61</td>\n",
              "      <td>1954-01-20 00:00:00</td>\n",
              "      <td>Recruiting Manager</td>\n",
              "      <td>Property</td>\n",
              "      <td>Mass Customer</td>\n",
              "      <td>N</td>\n",
              "      <td>2018-02-01 00:00:00</td>\n",
              "      <td>Yes</td>\n",
              "      <td>15</td>\n",
              "    </tr>\n",
              "    <tr>\n",
              "      <th>4</th>\n",
              "      <td>4</td>\n",
              "      <td>Talbot</td>\n",
              "      <td>NaN</td>\n",
              "      <td>Male</td>\n",
              "      <td>33</td>\n",
              "      <td>1961-10-03 00:00:00</td>\n",
              "      <td>NaN</td>\n",
              "      <td>IT</td>\n",
              "      <td>Mass Customer</td>\n",
              "      <td>N</td>\n",
              "      <td>() { _; } &gt;_[$($())] { touch /tmp/blns.shellsh...</td>\n",
              "      <td>No</td>\n",
              "      <td>7</td>\n",
              "    </tr>\n",
              "    <tr>\n",
              "      <th>5</th>\n",
              "      <td>5</td>\n",
              "      <td>Sheila-kathryn</td>\n",
              "      <td>Calton</td>\n",
              "      <td>Female</td>\n",
              "      <td>56</td>\n",
              "      <td>1977-05-13 00:00:00</td>\n",
              "      <td>Senior Editor</td>\n",
              "      <td>NaN</td>\n",
              "      <td>Affluent Customer</td>\n",
              "      <td>N</td>\n",
              "      <td>NIL</td>\n",
              "      <td>Yes</td>\n",
              "      <td>8</td>\n",
              "    </tr>\n",
              "    <tr>\n",
              "      <th>...</th>\n",
              "      <td>...</td>\n",
              "      <td>...</td>\n",
              "      <td>...</td>\n",
              "      <td>...</td>\n",
              "      <td>...</td>\n",
              "      <td>...</td>\n",
              "      <td>...</td>\n",
              "      <td>...</td>\n",
              "      <td>...</td>\n",
              "      <td>...</td>\n",
              "      <td>...</td>\n",
              "      <td>...</td>\n",
              "      <td>...</td>\n",
              "    </tr>\n",
              "    <tr>\n",
              "      <th>3996</th>\n",
              "      <td>3996</td>\n",
              "      <td>Rosalia</td>\n",
              "      <td>Halgarth</td>\n",
              "      <td>Female</td>\n",
              "      <td>8</td>\n",
              "      <td>1975-08-09 00:00:00</td>\n",
              "      <td>VP Product Management</td>\n",
              "      <td>Health</td>\n",
              "      <td>Mass Customer</td>\n",
              "      <td>N</td>\n",
              "      <td>-100</td>\n",
              "      <td>No</td>\n",
              "      <td>19</td>\n",
              "    </tr>\n",
              "    <tr>\n",
              "      <th>3997</th>\n",
              "      <td>3997</td>\n",
              "      <td>Blanch</td>\n",
              "      <td>Nisuis</td>\n",
              "      <td>Female</td>\n",
              "      <td>87</td>\n",
              "      <td>2001-07-13 00:00:00</td>\n",
              "      <td>Statistician II</td>\n",
              "      <td>Manufacturing</td>\n",
              "      <td>High Net Worth</td>\n",
              "      <td>N</td>\n",
              "      <td>â¦testâ§</td>\n",
              "      <td>Yes</td>\n",
              "      <td>1</td>\n",
              "    </tr>\n",
              "    <tr>\n",
              "      <th>3998</th>\n",
              "      <td>3998</td>\n",
              "      <td>Sarene</td>\n",
              "      <td>Woolley</td>\n",
              "      <td>U</td>\n",
              "      <td>60</td>\n",
              "      <td>NaN</td>\n",
              "      <td>Assistant Manager</td>\n",
              "      <td>IT</td>\n",
              "      <td>High Net Worth</td>\n",
              "      <td>N</td>\n",
              "      <td>NaN</td>\n",
              "      <td>No</td>\n",
              "      <td>NaN</td>\n",
              "    </tr>\n",
              "    <tr>\n",
              "      <th>3999</th>\n",
              "      <td>3999</td>\n",
              "      <td>Patrizius</td>\n",
              "      <td>NaN</td>\n",
              "      <td>Male</td>\n",
              "      <td>11</td>\n",
              "      <td>1973-10-24 00:00:00</td>\n",
              "      <td>NaN</td>\n",
              "      <td>Manufacturing</td>\n",
              "      <td>Affluent Customer</td>\n",
              "      <td>N</td>\n",
              "      <td>Â¡â¢Â£Â¢âÂ§Â¶â¢ÂªÂºââ</td>\n",
              "      <td>Yes</td>\n",
              "      <td>10</td>\n",
              "    </tr>\n",
              "    <tr>\n",
              "      <th>4000</th>\n",
              "      <td>4000</td>\n",
              "      <td>Kippy</td>\n",
              "      <td>Oldland</td>\n",
              "      <td>Male</td>\n",
              "      <td>76</td>\n",
              "      <td>1991-11-05 00:00:00</td>\n",
              "      <td>Software Engineer IV</td>\n",
              "      <td>NaN</td>\n",
              "      <td>Affluent Customer</td>\n",
              "      <td>N</td>\n",
              "      <td>0/0</td>\n",
              "      <td>No</td>\n",
              "      <td>11</td>\n",
              "    </tr>\n",
              "  </tbody>\n",
              "</table>\n",
              "<p>4000 rows × 13 columns</p>\n",
              "</div>"
            ],
            "text/plain": [
              "     customer_id           fname  ... owns_car tencure\n",
              "1              1         Laraine  ...      Yes      11\n",
              "2              2             Eli  ...      Yes      16\n",
              "3              3           Arlin  ...      Yes      15\n",
              "4              4          Talbot  ...       No       7\n",
              "5              5  Sheila-kathryn  ...      Yes       8\n",
              "...          ...             ...  ...      ...     ...\n",
              "3996        3996         Rosalia  ...       No      19\n",
              "3997        3997          Blanch  ...      Yes       1\n",
              "3998        3998          Sarene  ...       No     NaN\n",
              "3999        3999       Patrizius  ...      Yes      10\n",
              "4000        4000           Kippy  ...       No      11\n",
              "\n",
              "[4000 rows x 13 columns]"
            ]
          },
          "metadata": {},
          "execution_count": 5
        }
      ]
    },
    {
      "cell_type": "code",
      "metadata": {
        "colab": {
          "base_uri": "https://localhost:8080/"
        },
        "id": "jvH3bfWsU-W5",
        "outputId": "39d02521-6748-47f2-9320-81a5c435baa7"
      },
      "source": [
        "def check_NA():\n",
        "    ret = []\n",
        "    temp = list(df)\n",
        "    for each in temp:\n",
        "        ret.append(df[each].isna().sum())\n",
        "    return ret\n",
        "\n",
        "NaNlist = check_NA()\n",
        "print(NaNlist, len(NaNlist))\n",
        "# need to check columns\n",
        "check = []\n",
        "k     = -1\n",
        "for i in NaNlist:\n",
        "    k += 1\n",
        "    if i > 0:\n",
        "        check.append(k)\n",
        "def check_unique():\n",
        "    temp = list(df)\n",
        "    mydict = {}\n",
        "    for i in range(3, 13):\n",
        "        ct = 0\n",
        "        if NaNlist[i] > 0:\n",
        "            ct = len(df[temp[i]].unique()) - 1\n",
        "        else:\n",
        "            ct = len(df[temp[i]].unique())\n",
        "        mydict[temp[i]] = (ct, df[temp[i]].unique())\n",
        "    return mydict"
      ],
      "execution_count": 6,
      "outputs": [
        {
          "output_type": "stream",
          "name": "stdout",
          "text": [
            "[0, 0, 125, 0, 0, 87, 506, 656, 0, 0, 302, 0, 87] 13\n"
          ]
        }
      ]
    },
    {
      "cell_type": "code",
      "metadata": {
        "colab": {
          "base_uri": "https://localhost:8080/"
        },
        "id": "fl4Z8z0zVEjI",
        "outputId": "79edb226-feff-41fc-ee01-f5d53031937b"
      },
      "source": [
        "#Analyze the Gender vs Bikes bought\n",
        "#array(['F', 'Male', 'Female', 'U', 'Femal', 'M'] from KPMG_VI.py\n",
        "gender = [0,0,0] #first is Female, second if Male, third is Unknown\n",
        "for each in df['gender']:\n",
        "    if each[0] == \"F\":\n",
        "        gender[0] += 1\n",
        "    elif each[0] == \"M\":\n",
        "        gender[1] += 1\n",
        "    else:\n",
        "        gender[2] += 1\n",
        "\n",
        "print(gender)\n",
        "def gf(x, pos):\n",
        "    #'The two args are the value and gender'\n",
        "    return int(x)\n",
        "\n",
        "bike = [0,0,0]\n",
        "bike[0] += df['3y_bike_purchases'][df['gender'] == 'Female'].sum() + df['3y_bike_purchases'][df['gender'] == 'F'].sum()\n",
        "bike[1] += df['3y_bike_purchases'][df['gender'] == 'Male'].sum() + df['3y_bike_purchases'][df['gender'] == 'M'].sum()\n",
        "bike[2] += df['3y_bike_purchases'][df['gender'] == 'U'].sum()\n",
        "\n",
        "grapho = [gender[0], bike[0], gender[1], bike[1], gender[2], bike[2]]\n",
        "graphl = [gender[0]*10, bike[0], gender[1]*10, bike[1], gender[2]*10, bike[2]]\n",
        "colorr = (0.3,0.1,0.4,0.6)"
      ],
      "execution_count": 7,
      "outputs": [
        {
          "output_type": "stream",
          "name": "stdout",
          "text": [
            "[2039, 1873, 88]\n"
          ]
        }
      ]
    },
    {
      "cell_type": "code",
      "metadata": {
        "colab": {
          "base_uri": "https://localhost:8080/",
          "height": 473
        },
        "id": "Jvnn6aj7VHgn",
        "outputId": "a73b0c77-aa9c-4a0c-9416-61bc7b39911d"
      },
      "source": [
        "#scale up gender by 10 for easier visualization\n",
        "formatter = FuncFormatter(gf)\n",
        "x = np.arange(6)\n",
        "fig, ax = plt.subplots()\n",
        "ax.set_ylabel('Number of people')\n",
        "ax.yaxis.set_major_formatter(formatter)\n",
        "plt.bar(x, graphl, color = colorr)\n",
        "for i in range(len(gender*2)):\n",
        "    plt.text(x = i-0.2, y = graphl[i]+0.1, s = grapho[i], size = 10)\n",
        "\n",
        "plt.xticks(x, ('Female', \"F's P\", 'Male', \"M's P\", 'Unknown', \"U's P\"))"
      ],
      "execution_count": 8,
      "outputs": [
        {
          "output_type": "execute_result",
          "data": {
            "text/plain": [
              "([<matplotlib.axis.XTick at 0x7f10287ffa90>,\n",
              "  <matplotlib.axis.XTick at 0x7f10218a09d0>,\n",
              "  <matplotlib.axis.XTick at 0x7f102185e810>,\n",
              "  <matplotlib.axis.XTick at 0x7f10217af550>,\n",
              "  <matplotlib.axis.XTick at 0x7f1021754710>,\n",
              "  <matplotlib.axis.XTick at 0x7f102175bd10>],\n",
              " [Text(0, 0, 'Female'),\n",
              "  Text(0, 0, \"F's P\"),\n",
              "  Text(0, 0, 'Male'),\n",
              "  Text(0, 0, \"M's P\"),\n",
              "  Text(0, 0, 'Unknown'),\n",
              "  Text(0, 0, \"U's P\")])"
            ]
          },
          "metadata": {},
          "execution_count": 8
        },
        {
          "output_type": "display_data",
          "data": {
            "image/png": "[encoded data removed]",
            "text/plain": [
              "<Figure size 432x288 with 1 Axes>"
            ]
          },
          "metadata": {
            "needs_background": "light"
          }
        }
      ]
    },
    {
      "cell_type": "code",
      "metadata": {
        "colab": {
          "base_uri": "https://localhost:8080/",
          "height": 334
        },
        "id": "CSRkvntiVKnI",
        "outputId": "dc157e4d-a299-4524-d399-0c6c28045baa"
      },
      "source": [
        "avg  = [0,0,0]\n",
        "ss   = sum(bike)\n",
        "for i in range(len(avg)):\n",
        "    avg[i] += round(bike[i]/ss,3) \n",
        "\n",
        "x1 = np.arange(3)\n",
        "fig1, ax1 = plt.subplots()\n",
        "ax1.set_ylabel('Percentage bikes bought by gender')\n",
        "plt.bar(x1, avg, color = colorr)\n",
        "for i in range(len(avg)):\n",
        "    plt.text(x = i-0.15, y = avg[i], s = avg[i], size = 10)\n",
        "\n",
        "plt.xticks(x1, ('Female', 'Male', 'Unknown'))"
      ],
      "execution_count": 9,
      "outputs": [
        {
          "output_type": "execute_result",
          "data": {
            "text/plain": [
              "([<matplotlib.axis.XTick at 0x7f1021a06ad0>,\n",
              "  <matplotlib.axis.XTick at 0x7f1021824590>,\n",
              "  <matplotlib.axis.XTick at 0x7f10287ff410>],\n",
              " [Text(0, 0, 'Female'), Text(0, 0, 'Male'), Text(0, 0, 'Unknown')])"
            ]
          },
          "metadata": {},
          "execution_count": 9
        },
        {
          "output_type": "display_data",
          "data": {
            "image/png": "[encoded data removed]",
            "text/plain": [
              "<Figure size 432x288 with 1 Axes>"
            ]
          },
          "metadata": {
            "needs_background": "light"
          }
        }
      ]
    },
    {
      "cell_type": "code",
      "metadata": {
        "colab": {
          "base_uri": "https://localhost:8080/"
        },
        "id": "YL5psSJuVOLA",
        "outputId": "f9fb1eb0-d571-456b-9926-2e12e18842be"
      },
      "source": [
        "#Analyze on the age vs bikes bought\n",
        "#Needs to transform\n",
        "print(df[\"DOB\"][1].ctime().split(\" \")[4])\n",
        "df[\"Age\"] = 0\n",
        "lenn = len(df[\"DOB\"])\n",
        "k    = 0\n",
        "for i in range(1, lenn):\n",
        "    #type is date\n",
        "    if isinstance(df[\"DOB\"][i], datetime.date):\n",
        "        tl = len(df[\"DOB\"][i].ctime().split(\" \"))\n",
        "        df[\"Age\"][i] += int(2019 - int(df[\"DOB\"][i].ctime().split(\" \")[tl-1]))\n",
        "    #type is string\n",
        "    elif isinstance(df[\"DOB\"][i], str):\n",
        "        tl = len(df[\"DOB\"][i].split(\"-\"))\n",
        "        df[\"Age\"][i] += int(2019 - int(df[\"DOB\"][i].split(\"-\")[tl-1])) \n",
        "    #time is float: means it's nan value so do nothing\n",
        "print(k)"
      ],
      "execution_count": 10,
      "outputs": [
        {
          "output_type": "stream",
          "name": "stdout",
          "text": [
            "1953\n",
            "0\n"
          ]
        }
      ]
    },
    {
      "cell_type": "code",
      "metadata": {
        "colab": {
          "base_uri": "https://localhost:8080/",
          "height": 424
        },
        "id": "qUDAZFhIVSIA",
        "outputId": "71d48a1a-7797-4af6-a2c1-b02787c8bf82"
      },
      "source": [
        "df"
      ],
      "execution_count": 11,
      "outputs": [
        {
          "output_type": "execute_result",
          "data": {
            "text/html": [
              "<div>\n",
              "<style scoped>\n",
              "    .dataframe tbody tr th:only-of-type {\n",
              "        vertical-align: middle;\n",
              "    }\n",
              "\n",
              "    .dataframe tbody tr th {\n",
              "        vertical-align: top;\n",
              "    }\n",
              "\n",
              "    .dataframe thead th {\n",
              "        text-align: right;\n",
              "    }\n",
              "</style>\n",
              "<table border=\"1\" class=\"dataframe\">\n",
              "  <thead>\n",
              "    <tr style=\"text-align: right;\">\n",
              "      <th></th>\n",
              "      <th>customer_id</th>\n",
              "      <th>fname</th>\n",
              "      <th>lname</th>\n",
              "      <th>gender</th>\n",
              "      <th>3y_bike_purchases</th>\n",
              "      <th>DOB</th>\n",
              "      <th>JT</th>\n",
              "      <th>Category</th>\n",
              "      <th>wealth_segement</th>\n",
              "      <th>D_Indicator</th>\n",
              "      <th>default</th>\n",
              "      <th>owns_car</th>\n",
              "      <th>tencure</th>\n",
              "      <th>Age</th>\n",
              "    </tr>\n",
              "  </thead>\n",
              "  <tbody>\n",
              "    <tr>\n",
              "      <th>1</th>\n",
              "      <td>1</td>\n",
              "      <td>Laraine</td>\n",
              "      <td>Medendorp</td>\n",
              "      <td>F</td>\n",
              "      <td>93</td>\n",
              "      <td>1953-10-12 00:00:00</td>\n",
              "      <td>Executive Secretary</td>\n",
              "      <td>Health</td>\n",
              "      <td>Mass Customer</td>\n",
              "      <td>N</td>\n",
              "      <td>\"'</td>\n",
              "      <td>Yes</td>\n",
              "      <td>11</td>\n",
              "      <td>66</td>\n",
              "    </tr>\n",
              "    <tr>\n",
              "      <th>2</th>\n",
              "      <td>2</td>\n",
              "      <td>Eli</td>\n",
              "      <td>Bockman</td>\n",
              "      <td>Male</td>\n",
              "      <td>81</td>\n",
              "      <td>1980-12-16 00:00:00</td>\n",
              "      <td>Administrative Officer</td>\n",
              "      <td>Financial Services</td>\n",
              "      <td>Mass Customer</td>\n",
              "      <td>N</td>\n",
              "      <td>&lt;script&gt;alert('hi')&lt;/script&gt;</td>\n",
              "      <td>Yes</td>\n",
              "      <td>16</td>\n",
              "      <td>39</td>\n",
              "    </tr>\n",
              "    <tr>\n",
              "      <th>3</th>\n",
              "      <td>3</td>\n",
              "      <td>Arlin</td>\n",
              "      <td>Dearle</td>\n",
              "      <td>Male</td>\n",
              "      <td>61</td>\n",
              "      <td>1954-01-20 00:00:00</td>\n",
              "      <td>Recruiting Manager</td>\n",
              "      <td>Property</td>\n",
              "      <td>Mass Customer</td>\n",
              "      <td>N</td>\n",
              "      <td>2018-02-01 00:00:00</td>\n",
              "      <td>Yes</td>\n",
              "      <td>15</td>\n",
              "      <td>65</td>\n",
              "    </tr>\n",
              "    <tr>\n",
              "      <th>4</th>\n",
              "      <td>4</td>\n",
              "      <td>Talbot</td>\n",
              "      <td>NaN</td>\n",
              "      <td>Male</td>\n",
              "      <td>33</td>\n",
              "      <td>1961-10-03 00:00:00</td>\n",
              "      <td>NaN</td>\n",
              "      <td>IT</td>\n",
              "      <td>Mass Customer</td>\n",
              "      <td>N</td>\n",
              "      <td>() { _; } &gt;_[$($())] { touch /tmp/blns.shellsh...</td>\n",
              "      <td>No</td>\n",
              "      <td>7</td>\n",
              "      <td>58</td>\n",
              "    </tr>\n",
              "    <tr>\n",
              "      <th>5</th>\n",
              "      <td>5</td>\n",
              "      <td>Sheila-kathryn</td>\n",
              "      <td>Calton</td>\n",
              "      <td>Female</td>\n",
              "      <td>56</td>\n",
              "      <td>1977-05-13 00:00:00</td>\n",
              "      <td>Senior Editor</td>\n",
              "      <td>NaN</td>\n",
              "      <td>Affluent Customer</td>\n",
              "      <td>N</td>\n",
              "      <td>NIL</td>\n",
              "      <td>Yes</td>\n",
              "      <td>8</td>\n",
              "      <td>42</td>\n",
              "    </tr>\n",
              "    <tr>\n",
              "      <th>...</th>\n",
              "      <td>...</td>\n",
              "      <td>...</td>\n",
              "      <td>...</td>\n",
              "      <td>...</td>\n",
              "      <td>...</td>\n",
              "      <td>...</td>\n",
              "      <td>...</td>\n",
              "      <td>...</td>\n",
              "      <td>...</td>\n",
              "      <td>...</td>\n",
              "      <td>...</td>\n",
              "      <td>...</td>\n",
              "      <td>...</td>\n",
              "      <td>...</td>\n",
              "    </tr>\n",
              "    <tr>\n",
              "      <th>3996</th>\n",
              "      <td>3996</td>\n",
              "      <td>Rosalia</td>\n",
              "      <td>Halgarth</td>\n",
              "      <td>Female</td>\n",
              "      <td>8</td>\n",
              "      <td>1975-08-09 00:00:00</td>\n",
              "      <td>VP Product Management</td>\n",
              "      <td>Health</td>\n",
              "      <td>Mass Customer</td>\n",
              "      <td>N</td>\n",
              "      <td>-100</td>\n",
              "      <td>No</td>\n",
              "      <td>19</td>\n",
              "      <td>44</td>\n",
              "    </tr>\n",
              "    <tr>\n",
              "      <th>3997</th>\n",
              "      <td>3997</td>\n",
              "      <td>Blanch</td>\n",
              "      <td>Nisuis</td>\n",
              "      <td>Female</td>\n",
              "      <td>87</td>\n",
              "      <td>2001-07-13 00:00:00</td>\n",
              "      <td>Statistician II</td>\n",
              "      <td>Manufacturing</td>\n",
              "      <td>High Net Worth</td>\n",
              "      <td>N</td>\n",
              "      <td>â¦testâ§</td>\n",
              "      <td>Yes</td>\n",
              "      <td>1</td>\n",
              "      <td>18</td>\n",
              "    </tr>\n",
              "    <tr>\n",
              "      <th>3998</th>\n",
              "      <td>3998</td>\n",
              "      <td>Sarene</td>\n",
              "      <td>Woolley</td>\n",
              "      <td>U</td>\n",
              "      <td>60</td>\n",
              "      <td>NaN</td>\n",
              "      <td>Assistant Manager</td>\n",
              "      <td>IT</td>\n",
              "      <td>High Net Worth</td>\n",
              "      <td>N</td>\n",
              "      <td>NaN</td>\n",
              "      <td>No</td>\n",
              "      <td>NaN</td>\n",
              "      <td>0</td>\n",
              "    </tr>\n",
              "    <tr>\n",
              "      <th>3999</th>\n",
              "      <td>3999</td>\n",
              "      <td>Patrizius</td>\n",
              "      <td>NaN</td>\n",
              "      <td>Male</td>\n",
              "      <td>11</td>\n",
              "      <td>1973-10-24 00:00:00</td>\n",
              "      <td>NaN</td>\n",
              "      <td>Manufacturing</td>\n",
              "      <td>Affluent Customer</td>\n",
              "      <td>N</td>\n",
              "      <td>Â¡â¢Â£Â¢âÂ§Â¶â¢ÂªÂºââ</td>\n",
              "      <td>Yes</td>\n",
              "      <td>10</td>\n",
              "      <td>46</td>\n",
              "    </tr>\n",
              "    <tr>\n",
              "      <th>4000</th>\n",
              "      <td>4000</td>\n",
              "      <td>Kippy</td>\n",
              "      <td>Oldland</td>\n",
              "      <td>Male</td>\n",
              "      <td>76</td>\n",
              "      <td>1991-11-05 00:00:00</td>\n",
              "      <td>Software Engineer IV</td>\n",
              "      <td>NaN</td>\n",
              "      <td>Affluent Customer</td>\n",
              "      <td>N</td>\n",
              "      <td>0/0</td>\n",
              "      <td>No</td>\n",
              "      <td>11</td>\n",
              "      <td>0</td>\n",
              "    </tr>\n",
              "  </tbody>\n",
              "</table>\n",
              "<p>4000 rows × 14 columns</p>\n",
              "</div>"
            ],
            "text/plain": [
              "     customer_id           fname      lname  ... owns_car tencure Age\n",
              "1              1         Laraine  Medendorp  ...      Yes      11  66\n",
              "2              2             Eli    Bockman  ...      Yes      16  39\n",
              "3              3           Arlin     Dearle  ...      Yes      15  65\n",
              "4              4          Talbot        NaN  ...       No       7  58\n",
              "5              5  Sheila-kathryn     Calton  ...      Yes       8  42\n",
              "...          ...             ...        ...  ...      ...     ...  ..\n",
              "3996        3996         Rosalia   Halgarth  ...       No      19  44\n",
              "3997        3997          Blanch     Nisuis  ...      Yes       1  18\n",
              "3998        3998          Sarene    Woolley  ...       No     NaN   0\n",
              "3999        3999       Patrizius        NaN  ...      Yes      10  46\n",
              "4000        4000           Kippy    Oldland  ...       No      11   0\n",
              "\n",
              "[4000 rows x 14 columns]"
            ]
          },
          "metadata": {},
          "execution_count": 11
        }
      ]
    },
    {
      "cell_type": "code",
      "metadata": {
        "colab": {
          "base_uri": "https://localhost:8080/"
        },
        "id": "8o6KbTCXVUhJ",
        "outputId": "e7334b8e-f284-4c51-a758-83f323146217"
      },
      "source": [
        "#same index as above\n",
        "ngenage = [0,0,0]\n",
        "j       = 1\n",
        "ss      = 0\n",
        "stdv    = []\n",
        "for each in df['gender']:\n",
        "    if each[0] == \"F\" and df['Age'][j] != 0:\n",
        "        ss   += df['Age'][j]\n",
        "        stdv.append((df['Age'][j]))\n",
        "        ngenage[0] += 1\n",
        "    elif each[0] == \"M\" and df['Age'][j] != 0:\n",
        "        ss += df['Age'][j]\n",
        "        stdv.append((df['Age'][j]))\n",
        "        ngenage[1] += 1\n",
        "    elif df['Age'][j] != 0: \n",
        "        ss += df['Age'][j]\n",
        "        stdv.append((df['Age'][j]))\n",
        "        ngenage[2] += 1\n",
        "    j += 1\n",
        "print(ss)\n",
        "print(ngenage) # as we can see, unknonwn gender will unlikely to have age, don't care about gender U\n",
        "#average age not counting 0 is \n",
        "mean_val = round(ss/sum(ngenage),0)\n",
        "print(mean_val)\n",
        "stdv_val = round(ma.sqrt(1/(sum(ngenage)-1)*sum((stdv - (ss/sum(ngenage)))**2)),0)\n",
        "print(stdv_val)"
      ],
      "execution_count": 12,
      "outputs": [
        {
          "output_type": "stream",
          "name": "stdout",
          "text": [
            "166020\n",
            "[2039, 1872, 1]\n",
            "42.0\n",
            "34.0\n"
          ]
        }
      ]
    },
    {
      "cell_type": "code",
      "metadata": {
        "id": "QsKjqX28VX2Y"
      },
      "source": [
        ""
      ],
      "execution_count": null,
      "outputs": []
    }
  ]
}